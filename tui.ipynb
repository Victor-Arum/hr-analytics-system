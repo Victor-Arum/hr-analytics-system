{
 "cells": [
  {
   "cell_type": "code",
   "execution_count": 1,
   "id": "c0f97851",
   "metadata": {},
   "outputs": [],
   "source": [
    "from tabulate import tabulate # importing tabulate function"
   ]
  },
  {
   "cell_type": "code",
   "execution_count": 2,
   "id": "ee5b6755",
   "metadata": {},
   "outputs": [],
   "source": [
    "# Define a line width for the purpose of formatting\n",
    "line_width = 115"
   ]
  },
  {
   "cell_type": "code",
   "execution_count": 3,
   "id": "e5b0a0eb",
   "metadata": {},
   "outputs": [],
   "source": [
    "# Function to print a welcome message with an extra optional message\n",
    "def welcome():\n",
    "    # Use ASCII characters to design my welcome message\n",
    "    print(\"╔\" + \"═\" * (line_width - 5) + \"╗\") # Print lines to form a top border\n",
    "    print(\"║\" + \" \" * (line_width - 5) + \"║\") # Empty spaces within the rectange\n",
    "    print(\"║\" + \"WELCOME TO THE HR DESK!\".center(line_width - 5) + \"║\") # Text centered in the rectangle\n",
    "    print(\"║\" + \" \" * (line_width - 5) + \"║\") # Empty spaces again\n",
    "    print(\"╚\" + \"═\" * (line_width - 5) + \"╝\") # Print lines to form a bottom border"
   ]
  },
  {
   "cell_type": "code",
   "execution_count": 4,
   "id": "1bf82e59",
   "metadata": {},
   "outputs": [],
   "source": [
    "# Function to display a message saying that an operation has started\n",
    "def started(operation_name=\"\"):\n",
    "    print(\"*\" * line_width) # Print line of dashes for formatting\n",
    "    print(f\"Operation started: {operation_name}\\n\") # Print a message denoting start of an operation with an optional user input"
   ]
  },
  {
   "cell_type": "code",
   "execution_count": 5,
   "id": "b5beeba9",
   "metadata": {},
   "outputs": [],
   "source": [
    "# Function to indicate that an operation has been completed\n",
    "def completed():\n",
    "    print(\"\\nOperation completed.\") # Print completion message\n",
    "    print(\"*\" * line_width) # Print line of dashes for formatting"
   ]
  },
  {
   "cell_type": "code",
   "execution_count": 6,
   "id": "607800d0",
   "metadata": {},
   "outputs": [],
   "source": [
    "# Function to print error message with an optional extra message\n",
    "def error(msg = ''):\n",
    "    print(f\"Invalid Selection! {msg}\")"
   ]
  },
  {
   "cell_type": "code",
   "execution_count": 7,
   "id": "301c0d31",
   "metadata": {},
   "outputs": [],
   "source": [
    "# Function to display the main menu\n",
    "def main_menu():\n",
    "    \n",
    "    # Print out the options in the sub-menu\n",
    "    print(\"Want to explore and delve deep into our HR records? Please select an option to proceed:\")\n",
    "    print(\"\"\"\n",
    "    [1]          Retrieve data regarding our employees and job roles\n",
    "    [2]          Analyse our employee data and generate insights\n",
    "    [3]          Use charts to visualize our employee data\n",
    "    [exit]       Exit the program\n",
    "    \"\"\")\n",
    "    \n",
    "    # Get user input for the main menu\n",
    "    main_selection = input()\n",
    "    \n",
    "    return main_selection # Return user selection"
   ]
  },
  {
   "cell_type": "code",
   "execution_count": 8,
   "id": "e566eadb",
   "metadata": {},
   "outputs": [],
   "source": [
    "# Function to display the retrieve sub-menu\n",
    "def sub_menu_retrieve():\n",
    "    \n",
    "    # Print out the options in the sub-menu\n",
    "    print(\"Enter an option of your choice:\")\n",
    "    print(\"\"\"\n",
    "    [1]          Get an employee's personal details based on their employee number\n",
    "    [2]          Retrieve information about specific job roles\n",
    "    [3]          Fetch information of employees working below 60 hours by department\n",
    "    [4]          Retrieve the job role and salary info of last-decade hires by education level\n",
    "    [menu]       Return to the main menu\n",
    "    [exit]       Exit the program\n",
    "    \"\"\")\n",
    "    \n",
    "    # Get user input for the retrieve sub-menu\n",
    "    retrieve_selection = input()\n",
    "    \n",
    "    return retrieve_selection # Return user selection"
   ]
  },
  {
   "cell_type": "code",
   "execution_count": 9,
   "id": "f79d0e7e",
   "metadata": {},
   "outputs": [],
   "source": [
    "# Function to display the analyse sub-menu\n",
    "def sub_menu_analyse():\n",
    "    \n",
    "    # Print out the options in the sub-menu\n",
    "    print(\"Enter an option of your choice:\")\n",
    "    print(\"\"\"\n",
    "    [1]          Identify the top 3 job roles with most hires based on education level\n",
    "    [2]          Analyse employees' average monthly rate based on education level\n",
    "    [3]          Analyse the average duration of employment for employees in a department\n",
    "    [4]          Discover the top 10 earners by gender and department based on education level\n",
    "    [menu]       Return to the main menu\n",
    "    [exit]       Exit the program\n",
    "    \"\"\")\n",
    "    \n",
    "    # Get user input for the analyse sub-menu\n",
    "    analyse_selection = input()\n",
    "    \n",
    "    return analyse_selection # Return user selection"
   ]
  },
  {
   "cell_type": "code",
   "execution_count": 10,
   "id": "c7f00309",
   "metadata": {},
   "outputs": [],
   "source": [
    "# Function to display the visualise sub-menu\n",
    "def sub_menu_visualise():\n",
    "    \n",
    "    # Print out the options in the sub-menu\n",
    "    print(\"Enter an option of your choice:\")\n",
    "    print(\"\"\"\n",
    "    [1]          The proportion of employees in the company based on their education levels\n",
    "    [2]          The frequency of employee training in each education field\n",
    "    [3]          How job satisfaction scores change across job levels for each department\n",
    "    [4]          The average salary of employees in each job role\n",
    "    [menu]       Return to the main menu\n",
    "    [exit]       Exit the program\n",
    "    \"\"\")\n",
    "    \n",
    "    # Get user input for the visualise sub-menu\n",
    "    visualise_selection = input()\n",
    "    \n",
    "    return visualise_selection # Return user selection"
   ]
  },
  {
   "cell_type": "code",
   "execution_count": 11,
   "id": "355f777f",
   "metadata": {},
   "outputs": [],
   "source": [
    "# Function to display employee personal details based on their employee number\n",
    "def display_employee_details(employee_details):\n",
    "    \n",
    "    # Run a loop over each employee number and their information\n",
    "    for employee_number, info in employee_details.items():\n",
    "        \n",
    "        # Print a header message with the user-selected employee number\n",
    "        print(f\"Employee Personal Details for Employee Number: {employee_number}\")\n",
    "        print(\"=\" * line_width)  # Print a separator line\n",
    "        \n",
    "        # Loop over each attribute and its value for each employee\n",
    "        for attribute, value in info.items():\n",
    "            print(f\"{attribute}: {value}\") # Print each attribute and its value\n",
    "        print(\"=\" * line_width) # Print another separator line"
   ]
  },
  {
   "cell_type": "code",
   "execution_count": 12,
   "id": "be045b47",
   "metadata": {},
   "outputs": [],
   "source": [
    "# Function to display specific information about a particular job role\n",
    "def display_job_info(job_role, job_info):\n",
    "    \n",
    "    # Print a header message with the user-selected job role\n",
    "    print(f\"Displaying information specific to the job role, {job_role}:\")\n",
    "    \n",
    "    # Retrieve the attributes and values for the job roles\n",
    "    attributes = job_info[job_role]\n",
    "    rows = []\n",
    "    \n",
    "    # Iterate over each key and values in the attributes variable\n",
    "    for key, values in attributes.items():\n",
    "        # Convert each value into a string and joins them if multiple values\n",
    "        rows.append([key, \"\\n\".join(map(str, values))])\n",
    "    \n",
    "    # Print the job info in a nice format using tabulate\n",
    "    print(tabulate(rows, headers=[\"Attribute\", \"Values\"], tablefmt=\"grid\"))"
   ]
  },
  {
   "cell_type": "code",
   "execution_count": 13,
   "id": "b3d9e57c",
   "metadata": {},
   "outputs": [],
   "source": [
    "# Function to display data of employees working less than 60 hours based on department\n",
    "def display_under_60_hours_employee_info(under_60_hours_employee_details, department):\n",
    "    \n",
    "    # Print a header message with the user-selected department\n",
    "    print(f\"Displaying employee details for individuals working below 60 standard hours in {department} department:\")\n",
    "    \n",
    "    # Create columns/headers for use in tabulate() function\n",
    "    headers = [\"Employee Number\", \"Job Role\", \"Marital Status\", \"Hourly Rate\"]\n",
    "    \n",
    "    # Create an empty list to store rows of employee data\n",
    "    rows = []\n",
    "    \n",
    "    # Iterate over each employee in the list of dictionary named under_60_hours_employee_details\n",
    "    for employee in under_60_hours_employee_details[1:]:\n",
    "        # Retrieve needed data from the list; each row representing each employee details\n",
    "        row = [employee[\"Employee Number\"], employee[\"Job Role\"], employee[\"Marital Status\"], employee[\"Hourly Rate\"]]\n",
    "        rows.append(row)\n",
    "        \n",
    "    # Print the specific employee details in a nice format using tabulate\n",
    "    print(tabulate(rows, headers=headers, tablefmt=\"grid\"))"
   ]
  },
  {
   "cell_type": "code",
   "execution_count": 14,
   "id": "2918e6d6",
   "metadata": {},
   "outputs": [],
   "source": [
    "# Function to display salary information for the last decade by education level\n",
    "def display_salary_info_last_10_years(last_10_years_salary_details, education_level):\n",
    "    \n",
    "    # Print a header message with the user-selected education level\n",
    "    print(f\"Displaying the salary details of employees with the education level, {education_level}, who joined the company in the last decade:\")\n",
    "    \n",
    "    # Create headers for use in tabluate() function\n",
    "    headers = [\"Job Role\", \"Monthly Income\", \"Daily Rate\", \"Percentage Salary Hike\"]\n",
    "    \n",
    "    # Create an empty list to store rows of employee job role, income, rate, and % hike\n",
    "    rows = []\n",
    "    \n",
    "    # Loop over each employee in the list of dictionary named last_10_years_salary_details\n",
    "    for employee in last_10_years_salary_details[1:]:\n",
    "        # Retrieve each needed employee data in rows and store in variable 'row'\n",
    "        row = [employee[\"Job Role\"], employee[\"Monthly Income\"], employee[\"Daily Rate\"], employee[\"Percentage Salary Hike\"]]\n",
    "        rows.append(row)\n",
    "    \n",
    "    # Print the employee data in a tabular format\n",
    "    print(tabulate(rows, headers=headers, tablefmt=\"grid\"))"
   ]
  },
  {
   "cell_type": "code",
   "execution_count": 15,
   "id": "ff5b4e41",
   "metadata": {},
   "outputs": [],
   "source": [
    "# Function to display the top 3 job roles with the most hires based on education level\n",
    "def display_top_3_job_roles(top_3_job_roles, educational_level):\n",
    "    \n",
    "    # Print a header message with the user-selected education level\n",
    "    print(f\"Displaying the top 3 job roles with the most employees with educational level, {educational_level}:\\n\")\n",
    "    \n",
    "    # Create headers for the tabulate() table\n",
    "    headers = [\"Job Role\", \"Number of Employees\"]\n",
    "    \n",
    "    # Print the top 3 job roles in a tabular format\n",
    "    print(tabulate(top_3_job_roles, headers=headers, tablefmt=\"grid\", showindex=False)) #showindex to remove the index"
   ]
  },
  {
   "cell_type": "code",
   "execution_count": 16,
   "id": "033c4bdb",
   "metadata": {},
   "outputs": [],
   "source": [
    "# Function to display employees' average monthly rate based on education level\n",
    "def display_average_monthly_rate(educational_level, average_monthly_rate):\n",
    "    \n",
    "    # Format the monthly rate by adding the dollar sign ($) and approximating to two decimal places\n",
    "    formatted_rate = f\"${average_monthly_rate:.2f}\"\n",
    "    \n",
    "    # Print the formatted monthly rate\n",
    "    print(f\"\\nThe average monthly rate of employees with education level '{educational_level}' is {formatted_rate}.\")"
   ]
  },
  {
   "cell_type": "code",
   "execution_count": 17,
   "id": "c9f8d719",
   "metadata": {},
   "outputs": [],
   "source": [
    "# Function to display the employees' average duration of employment in a specific department\n",
    "def display_average_employment_duration(average_employment_duration, department):\n",
    "    \n",
    "    # Format the years to two decimal places\n",
    "    formatted_years = f\"{average_employment_duration:.2f} years\"\n",
    "    \n",
    "    # Print the formatted years\n",
    "    print(f\"\\nThe average duration of employment for employees in {department} department is {formatted_years}.\")"
   ]
  },
  {
   "cell_type": "code",
   "execution_count": 18,
   "id": "5a649405",
   "metadata": {},
   "outputs": [],
   "source": [
    "# Function to display the top 10 earners' department and gender based on education level\n",
    "def display_top_10_earners(education_input, complete_data):\n",
    "    print(f\"\\nDisplaying the department and gender of the top 10 earners with the education level: '{education_input}':\\n\")\n",
    "    \n",
    "    # Create headers for the tabulate() table\n",
    "    headers = [\"Department\", \"Gender\", \"Monthly Income\"]\n",
    "    \n",
    "    # Print the top 10 earners' department and gender in a tabular format\n",
    "    print(tabulate(complete_data, headers=headers, tablefmt=\"grid\", showindex=False))"
   ]
  }
 ],
 "metadata": {
  "kernelspec": {
   "display_name": "COM728",
   "language": "python",
   "name": "com728"
  },
  "language_info": {
   "codemirror_mode": {
    "name": "ipython",
    "version": 3
   },
   "file_extension": ".py",
   "mimetype": "text/x-python",
   "name": "python",
   "nbconvert_exporter": "python",
   "pygments_lexer": "ipython3",
   "version": "3.10.13"
  }
 },
 "nbformat": 4,
 "nbformat_minor": 5
}
